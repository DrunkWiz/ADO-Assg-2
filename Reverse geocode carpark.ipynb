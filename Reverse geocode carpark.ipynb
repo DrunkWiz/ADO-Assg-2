{
 "cells": [
  {
   "cell_type": "code",
   "execution_count": 1,
   "id": "596f8dfc",
   "metadata": {
    "ExecuteTime": {
     "end_time": "2023-01-21T18:38:25.428870Z",
     "start_time": "2023-01-21T18:38:24.338950Z"
    }
   },
   "outputs": [
    {
     "name": "stdout",
     "output_type": "stream",
     "text": [
      "time: 1.08 s (started: 2023-01-22 02:38:24 +08:00)\n"
     ]
    }
   ],
   "source": [
    "%load_ext autotime\n",
    "import pandas as pd\n",
    "import geopandas as gpd\n",
    "import geopy\n",
    "from geopy.geocoders import Nominatim\n",
    "from geopy.extra.rate_limiter import RateLimiter\n",
    "import matplotlib.pyplot as plt\n",
    "import plotly_express as px\n",
    "import tqdm \n",
    "from tqdm.notebook import tqdm_notebook"
   ]
  },
  {
   "cell_type": "code",
   "execution_count": 2,
   "id": "1b4d236e",
   "metadata": {
    "ExecuteTime": {
     "end_time": "2023-01-21T18:38:26.966628Z",
     "start_time": "2023-01-21T18:38:26.109916Z"
    },
    "scrolled": false
   },
   "outputs": [
    {
     "data": {
      "text/plain": [
       "{'place_id': 120847146,\n",
       " 'licence': 'Data © OpenStreetMap contributors, ODbL 1.0. https://osm.org/copyright',\n",
       " 'osm_type': 'way',\n",
       " 'osm_id': 47298635,\n",
       " 'lat': '1.28150925',\n",
       " 'lon': '103.84418920262593',\n",
       " 'display_name': 'Buddha Tooth Relic Temple, 288, South Bridge Road, Shenton Way, Outram, Singapore, Central, 058840, Singapore',\n",
       " 'address': {'building': 'Buddha Tooth Relic Temple',\n",
       "  'house_number': '288',\n",
       "  'road': 'South Bridge Road',\n",
       "  'suburb': 'Outram',\n",
       "  'city': 'Singapore',\n",
       "  'county': 'Central',\n",
       "  'ISO3166-2-lvl6': 'SG-01',\n",
       "  'postcode': '058840',\n",
       "  'country': 'Singapore',\n",
       "  'country_code': 'sg'},\n",
       " 'boundingbox': ['1.2812129', '1.2817778', '103.8438577', '103.8446035']}"
      ]
     },
     "execution_count": 2,
     "metadata": {},
     "output_type": "execute_result"
    },
    {
     "name": "stdout",
     "output_type": "stream",
     "text": [
      "time: 860 ms (started: 2023-01-22 02:38:26 +08:00)\n"
     ]
    }
   ],
   "source": [
    "locator = Nominatim(user_agent=\"myGeocoder\")\n",
    "coordinates = \"1.281260, 103.844358\"\n",
    "location = locator.reverse(coordinates)\n",
    "location.raw"
   ]
  },
  {
   "cell_type": "code",
   "execution_count": 3,
   "id": "f8304696",
   "metadata": {
    "ExecuteTime": {
     "end_time": "2023-01-21T18:38:26.982627Z",
     "start_time": "2023-01-21T18:38:26.968639Z"
    }
   },
   "outputs": [
    {
     "name": "stdout",
     "output_type": "stream",
     "text": [
      "Buddha Tooth Relic Temple, 288, South Bridge Road, Shenton Way, Outram, Singapore, Central, 058840, Singapore\n",
      "time: 0 ns (started: 2023-01-22 02:38:26 +08:00)\n"
     ]
    }
   ],
   "source": [
    "print(location.address)"
   ]
  },
  {
   "cell_type": "code",
   "execution_count": 4,
   "id": "895f11c1",
   "metadata": {
    "ExecuteTime": {
     "end_time": "2023-01-21T18:38:28.478854Z",
     "start_time": "2023-01-21T18:38:28.465853Z"
    }
   },
   "outputs": [
    {
     "data": {
      "text/html": [
       "<div>\n",
       "<style scoped>\n",
       "    .dataframe tbody tr th:only-of-type {\n",
       "        vertical-align: middle;\n",
       "    }\n",
       "\n",
       "    .dataframe tbody tr th {\n",
       "        vertical-align: top;\n",
       "    }\n",
       "\n",
       "    .dataframe thead th {\n",
       "        text-align: right;\n",
       "    }\n",
       "</style>\n",
       "<table border=\"1\" class=\"dataframe\">\n",
       "  <thead>\n",
       "    <tr style=\"text-align: right;\">\n",
       "      <th></th>\n",
       "      <th>Name</th>\n",
       "      <th>Type</th>\n",
       "      <th>Longitude</th>\n",
       "      <th>Latitude</th>\n",
       "      <th>Long round</th>\n",
       "      <th>Lat round</th>\n",
       "    </tr>\n",
       "  </thead>\n",
       "  <tbody>\n",
       "    <tr>\n",
       "      <th>0</th>\n",
       "      <td>kml_1</td>\n",
       "      <td>Point</td>\n",
       "      <td>103.844358</td>\n",
       "      <td>1.281261</td>\n",
       "      <td>103.844358</td>\n",
       "      <td>1.281261</td>\n",
       "    </tr>\n",
       "    <tr>\n",
       "      <th>1</th>\n",
       "      <td>kml_2</td>\n",
       "      <td>Point</td>\n",
       "      <td>103.847446</td>\n",
       "      <td>1.281409</td>\n",
       "      <td>103.847446</td>\n",
       "      <td>1.281409</td>\n",
       "    </tr>\n",
       "    <tr>\n",
       "      <th>2</th>\n",
       "      <td>kml_3</td>\n",
       "      <td>Point</td>\n",
       "      <td>103.847510</td>\n",
       "      <td>1.310559</td>\n",
       "      <td>103.847510</td>\n",
       "      <td>1.310559</td>\n",
       "    </tr>\n",
       "    <tr>\n",
       "      <th>3</th>\n",
       "      <td>kml_4</td>\n",
       "      <td>Point</td>\n",
       "      <td>103.845270</td>\n",
       "      <td>1.282391</td>\n",
       "      <td>103.845270</td>\n",
       "      <td>1.282391</td>\n",
       "    </tr>\n",
       "    <tr>\n",
       "      <th>4</th>\n",
       "      <td>kml_5</td>\n",
       "      <td>Point</td>\n",
       "      <td>103.846251</td>\n",
       "      <td>1.282479</td>\n",
       "      <td>103.846251</td>\n",
       "      <td>1.282479</td>\n",
       "    </tr>\n",
       "  </tbody>\n",
       "</table>\n",
       "</div>"
      ],
      "text/plain": [
       "    Name   Type   Longitude  Latitude  Long round  Lat round\n",
       "0  kml_1  Point  103.844358  1.281261  103.844358   1.281261\n",
       "1  kml_2  Point  103.847446  1.281409  103.847446   1.281409\n",
       "2  kml_3  Point  103.847510  1.310559  103.847510   1.310559\n",
       "3  kml_4  Point  103.845270  1.282391  103.845270   1.282391\n",
       "4  kml_5  Point  103.846251  1.282479  103.846251   1.282479"
      ]
     },
     "execution_count": 4,
     "metadata": {},
     "output_type": "execute_result"
    },
    {
     "name": "stdout",
     "output_type": "stream",
     "text": [
      "time: 15 ms (started: 2023-01-22 02:38:28 +08:00)\n"
     ]
    }
   ],
   "source": [
    "df = pd.read_csv(r\"C:\\Users\\Nathan\\Desktop\\studies\\ADO\\Lta test taxi stop.csv\")\n",
    "df.head()"
   ]
  },
  {
   "cell_type": "code",
   "execution_count": 5,
   "id": "a23a4c67",
   "metadata": {
    "ExecuteTime": {
     "end_time": "2023-01-21T18:38:43.083661Z",
     "start_time": "2023-01-21T18:38:43.066660Z"
    }
   },
   "outputs": [
    {
     "data": {
      "text/plain": [
       "'1.281261,103.844358'"
      ]
     },
     "execution_count": 5,
     "metadata": {},
     "output_type": "execute_result"
    },
    {
     "name": "stdout",
     "output_type": "stream",
     "text": [
      "time: 16 ms (started: 2023-01-22 02:38:43 +08:00)\n"
     ]
    }
   ],
   "source": [
    "df[\"geom\"] = df[\"Lat round\"].map(str) + \",\" + df[\"Long round\"].map(str)\n",
    "df[\"geom\"][0]"
   ]
  },
  {
   "cell_type": "code",
   "execution_count": 6,
   "id": "4c8b4ddf",
   "metadata": {
    "ExecuteTime": {
     "end_time": "2023-01-21T18:38:45.492380Z",
     "start_time": "2023-01-21T18:38:45.482380Z"
    }
   },
   "outputs": [
    {
     "name": "stdout",
     "output_type": "stream",
     "text": [
      "time: 0 ns (started: 2023-01-22 02:38:45 +08:00)\n"
     ]
    }
   ],
   "source": [
    "locator = Nominatim(user_agent=\"myGeocoder\", timeout=10)\n",
    "rgeocode = RateLimiter(locator.reverse, min_delay_seconds=0.001)"
   ]
  },
  {
   "cell_type": "code",
   "execution_count": 7,
   "id": "f5b067ab",
   "metadata": {
    "ExecuteTime": {
     "end_time": "2023-01-21T18:41:56.710006Z",
     "start_time": "2023-01-21T18:38:46.552100Z"
    },
    "scrolled": false
   },
   "outputs": [
    {
     "data": {
      "application/vnd.jupyter.widget-view+json": {
       "model_id": "dcc8a8f384a4496483cf772e69870b73",
       "version_major": 2,
       "version_minor": 0
      },
      "text/plain": [
       "0it [00:00, ?it/s]"
      ]
     },
     "metadata": {},
     "output_type": "display_data"
    },
    {
     "data": {
      "application/vnd.jupyter.widget-view+json": {
       "model_id": "dc5a4743ce1f4833926231897e9cd380",
       "version_major": 2,
       "version_minor": 0
      },
      "text/plain": [
       "  0%|          | 0/350 [00:00<?, ?it/s]"
      ]
     },
     "metadata": {},
     "output_type": "display_data"
    },
    {
     "data": {
      "text/html": [
       "<div>\n",
       "<style scoped>\n",
       "    .dataframe tbody tr th:only-of-type {\n",
       "        vertical-align: middle;\n",
       "    }\n",
       "\n",
       "    .dataframe tbody tr th {\n",
       "        vertical-align: top;\n",
       "    }\n",
       "\n",
       "    .dataframe thead th {\n",
       "        text-align: right;\n",
       "    }\n",
       "</style>\n",
       "<table border=\"1\" class=\"dataframe\">\n",
       "  <thead>\n",
       "    <tr style=\"text-align: right;\">\n",
       "      <th></th>\n",
       "      <th>Name</th>\n",
       "      <th>Type</th>\n",
       "      <th>Longitude</th>\n",
       "      <th>Latitude</th>\n",
       "      <th>Long round</th>\n",
       "      <th>Lat round</th>\n",
       "      <th>geom</th>\n",
       "      <th>address</th>\n",
       "    </tr>\n",
       "  </thead>\n",
       "  <tbody>\n",
       "    <tr>\n",
       "      <th>0</th>\n",
       "      <td>kml_1</td>\n",
       "      <td>Point</td>\n",
       "      <td>103.844358</td>\n",
       "      <td>1.281261</td>\n",
       "      <td>103.844358</td>\n",
       "      <td>1.281261</td>\n",
       "      <td>1.281261,103.844358</td>\n",
       "      <td>(Buddha Tooth Relic Temple, 288, South Bridge ...</td>\n",
       "    </tr>\n",
       "    <tr>\n",
       "      <th>1</th>\n",
       "      <td>kml_2</td>\n",
       "      <td>Point</td>\n",
       "      <td>103.847446</td>\n",
       "      <td>1.281409</td>\n",
       "      <td>103.847446</td>\n",
       "      <td>1.281409</td>\n",
       "      <td>1.281409,103.847446</td>\n",
       "      <td>(Thian Hock Keng Temple, Amoy Street, Chinatow...</td>\n",
       "    </tr>\n",
       "    <tr>\n",
       "      <th>2</th>\n",
       "      <td>kml_3</td>\n",
       "      <td>Point</td>\n",
       "      <td>103.847510</td>\n",
       "      <td>1.310559</td>\n",
       "      <td>103.847510</td>\n",
       "      <td>1.310559</td>\n",
       "      <td>1.310559,103.84751</td>\n",
       "      <td>(Kandang Kerbau Women's and Children's Hospita...</td>\n",
       "    </tr>\n",
       "    <tr>\n",
       "      <th>3</th>\n",
       "      <td>kml_4</td>\n",
       "      <td>Point</td>\n",
       "      <td>103.845270</td>\n",
       "      <td>1.282391</td>\n",
       "      <td>103.845270</td>\n",
       "      <td>1.282391</td>\n",
       "      <td>1.282391,103.84527</td>\n",
       "      <td>(D16, South Bridge Road, Chinatown, Outram, Si...</td>\n",
       "    </tr>\n",
       "    <tr>\n",
       "      <th>4</th>\n",
       "      <td>kml_5</td>\n",
       "      <td>Point</td>\n",
       "      <td>103.846251</td>\n",
       "      <td>1.282479</td>\n",
       "      <td>103.846251</td>\n",
       "      <td>1.282479</td>\n",
       "      <td>1.282479,103.846251</td>\n",
       "      <td>(D20, Club Street, Chinatown, Outram, Singapor...</td>\n",
       "    </tr>\n",
       "  </tbody>\n",
       "</table>\n",
       "</div>"
      ],
      "text/plain": [
       "    Name   Type   Longitude  Latitude  Long round  Lat round  \\\n",
       "0  kml_1  Point  103.844358  1.281261  103.844358   1.281261   \n",
       "1  kml_2  Point  103.847446  1.281409  103.847446   1.281409   \n",
       "2  kml_3  Point  103.847510  1.310559  103.847510   1.310559   \n",
       "3  kml_4  Point  103.845270  1.282391  103.845270   1.282391   \n",
       "4  kml_5  Point  103.846251  1.282479  103.846251   1.282479   \n",
       "\n",
       "                  geom                                            address  \n",
       "0  1.281261,103.844358  (Buddha Tooth Relic Temple, 288, South Bridge ...  \n",
       "1  1.281409,103.847446  (Thian Hock Keng Temple, Amoy Street, Chinatow...  \n",
       "2   1.310559,103.84751  (Kandang Kerbau Women's and Children's Hospita...  \n",
       "3   1.282391,103.84527  (D16, South Bridge Road, Chinatown, Outram, Si...  \n",
       "4  1.282479,103.846251  (D20, Club Street, Chinatown, Outram, Singapor...  "
      ]
     },
     "execution_count": 7,
     "metadata": {},
     "output_type": "execute_result"
    },
    {
     "name": "stdout",
     "output_type": "stream",
     "text": [
      "time: 3min 10s (started: 2023-01-22 02:38:46 +08:00)\n"
     ]
    }
   ],
   "source": [
    "tqdm_notebook.pandas(desc='My bar!')\n",
    "\n",
    "df[\"address\"] = df[\"geom\"].progress_apply(rgeocode)\n",
    "df.head()"
   ]
  },
  {
   "cell_type": "code",
   "execution_count": 14,
   "id": "def00df2",
   "metadata": {
    "ExecuteTime": {
     "end_time": "2023-01-21T18:57:30.489240Z",
     "start_time": "2023-01-21T18:57:30.480657Z"
    }
   },
   "outputs": [
    {
     "data": {
      "text/plain": [
       "0      (Buddha Tooth Relic Temple, 288, South Bridge ...\n",
       "1      (Thian Hock Keng Temple, Amoy Street, Chinatow...\n",
       "2      (Kandang Kerbau Women's and Children's Hospita...\n",
       "3      (D16, South Bridge Road, Chinatown, Outram, Si...\n",
       "4      (D20, Club Street, Chinatown, Outram, Singapor...\n",
       "                             ...                        \n",
       "345    (Little India, Rochor Canal Road, Selegie, Roc...\n",
       "346    (Newton, Scotts Road, Cairnhill, Newton, Singa...\n",
       "347    (Radin Mas Community Club, Telok Blangah Cresc...\n",
       "348    (Upper Changi, 690, Upper Changi Road East, Ta...\n",
       "349    (Upper Changi, 690, Upper Changi Road East, Ta...\n",
       "Name: address, Length: 350, dtype: object"
      ]
     },
     "execution_count": 14,
     "metadata": {},
     "output_type": "execute_result"
    },
    {
     "name": "stdout",
     "output_type": "stream",
     "text": [
      "time: 0 ns (started: 2023-01-22 02:57:30 +08:00)\n"
     ]
    }
   ],
   "source": [
    "df[\"address\"]"
   ]
  },
  {
   "cell_type": "code",
   "execution_count": 13,
   "id": "505691c8",
   "metadata": {
    "ExecuteTime": {
     "end_time": "2023-01-21T18:57:28.595638Z",
     "start_time": "2023-01-21T18:57:28.587478Z"
    }
   },
   "outputs": [
    {
     "name": "stdout",
     "output_type": "stream",
     "text": [
      "time: 0 ns (started: 2023-01-22 02:57:28 +08:00)\n"
     ]
    }
   ],
   "source": [
    "df.to_csv(r\"C:\\Users\\Nathan\\Desktop\\Assignment 2\\ado\\Carpark information.csv\" , index=False)"
   ]
  }
 ],
 "metadata": {
  "kernelspec": {
   "display_name": "Python 3 (ipykernel)",
   "language": "python",
   "name": "python3"
  },
  "language_info": {
   "codemirror_mode": {
    "name": "ipython",
    "version": 3
   },
   "file_extension": ".py",
   "mimetype": "text/x-python",
   "name": "python",
   "nbconvert_exporter": "python",
   "pygments_lexer": "ipython3",
   "version": "3.9.7"
  },
  "toc": {
   "base_numbering": 1,
   "nav_menu": {},
   "number_sections": true,
   "sideBar": true,
   "skip_h1_title": false,
   "title_cell": "Table of Contents",
   "title_sidebar": "Contents",
   "toc_cell": false,
   "toc_position": {},
   "toc_section_display": true,
   "toc_window_display": false
  }
 },
 "nbformat": 4,
 "nbformat_minor": 5
}

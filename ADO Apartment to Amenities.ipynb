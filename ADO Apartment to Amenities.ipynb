{
 "cells": [
  {
   "cell_type": "code",
   "execution_count": 1,
   "id": "80aa6f86",
   "metadata": {},
   "outputs": [],
   "source": [
    "import pandas as pd  \n",
    "import numpy as np\n",
    "import math"
   ]
  },
  {
   "cell_type": "code",
   "execution_count": 2,
   "id": "6961ca2a",
   "metadata": {},
   "outputs": [],
   "source": [
    "# reading the data\n",
    "\n",
    "apartment_data = pd.read_csv('BukitTimah.csv')\n",
    "ammenities_data = pd.read_csv('primaryschoolsg.csv')"
   ]
  },
  {
   "cell_type": "code",
   "execution_count": 6,
   "id": "62c3aca8",
   "metadata": {},
   "outputs": [],
   "source": [
    "def haversine(lo1, la1, lo2, la2, d2r):\n",
    "    dist = 0\n",
    "\n",
    "    dlong = d2r * (lo2 - lo1)\n",
    "    dlat = d2r * (la2 - la1)\n",
    "\n",
    "    a = pow(math.sin(dlat/2),2) + math.cos(la1*d2r) * math.cos(la2*d2r) * pow(math.sin(dlong/2),2)\n",
    "    c = 2 * math.atan2(math.sqrt(a),math.sqrt(1-a))\n",
    "    dist = c * 6367\n",
    "\n",
    "    return dist"
   ]
  },
  {
   "cell_type": "code",
   "execution_count": 45,
   "id": "a9d6f22f",
   "metadata": {
    "scrolled": true
   },
   "outputs": [],
   "source": [
    "def distance_table_output(apartment_file,amneties_file):\n",
    "    apartment_data = pd.read_csv(apartment_file)\n",
    "    ammenities_data = pd.read_csv(amneties_file)\n",
    "    d2r = math.pi/180\n",
    "    output = pd.DataFrame()\n",
    "\n",
    "    for index_ap, row_ap in apartment_data.iterrows():\n",
    "        for index_am, row_am in ammenities_data.iterrows():\n",
    "        \n",
    "            Lat1 = row_ap['Latitude']\n",
    "            Lon1 = row_ap['Longitude']\n",
    "            Lat2 = row_am['Latitude']\n",
    "            Lon2 = row_am['Longitude']\n",
    "        \n",
    "            dist = haversine(Lon1, Lat1, Lon2, Lat2, d2r)\n",
    "        \n",
    "            if dist < 2:\n",
    "                new_row = {'Apartment':row_ap['Address'],\n",
    "                        'Block':row_ap['block'],\n",
    "                       'Distance':dist,\n",
    "                      'Name':row_am['Name']}\n",
    "                new_row = pd.DataFrame(new_row, index=[len(output)])\n",
    "                new_row= pd.merge(new_row, ammenities_data.iloc[[index_am]])\n",
    "                output = pd.concat([output, new_row])\n",
    "    return"
   ]
  },
  {
   "cell_type": "code",
   "execution_count": 47,
   "id": "167f7af3",
   "metadata": {},
   "outputs": [],
   "source": [
    "distance_table_output('BukitTimah.csv','primaryschoolsg.csv')\n",
    "## copy the code swap it with ur region csv and amneties csv\n",
    "output.to_csv('BukitTimah_to_PrimarySchools.csv', index=False)"
   ]
  },
  {
   "cell_type": "code",
   "execution_count": null,
   "id": "879d8af5",
   "metadata": {},
   "outputs": [],
   "source": []
  }
 ],
 "metadata": {
  "kernelspec": {
   "display_name": "Python 3 (ipykernel)",
   "language": "python",
   "name": "python3"
  },
  "language_info": {
   "codemirror_mode": {
    "name": "ipython",
    "version": 3
   },
   "file_extension": ".py",
   "mimetype": "text/x-python",
   "name": "python",
   "nbconvert_exporter": "python",
   "pygments_lexer": "ipython3",
   "version": "3.9.7"
  }
 },
 "nbformat": 4,
 "nbformat_minor": 5
}

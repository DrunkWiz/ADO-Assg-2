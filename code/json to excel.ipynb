{
 "cells": [
  {
   "cell_type": "code",
   "execution_count": 1,
   "id": "456b84c6",
   "metadata": {
    "ExecuteTime": {
     "end_time": "2023-01-06T05:26:50.306511Z",
     "start_time": "2023-01-06T05:26:47.700779Z"
    }
   },
   "outputs": [
    {
     "name": "stdout",
     "output_type": "stream",
     "text": [
      "Requirement already satisfied: beautifulsoup4 in c:\\users\\nathan\\anaconda3\\lib\\site-packages (4.10.0)\n",
      "Requirement already satisfied: soupsieve>1.2 in c:\\users\\nathan\\anaconda3\\lib\\site-packages (from beautifulsoup4) (2.2.1)\n",
      "Note: you may need to restart the kernel to use updated packages.\n"
     ]
    }
   ],
   "source": [
    "pip install beautifulsoup4"
   ]
  },
  {
   "cell_type": "code",
   "execution_count": 26,
   "id": "8d6c2f13",
   "metadata": {
    "ExecuteTime": {
     "end_time": "2023-01-06T05:27:50.110364Z",
     "start_time": "2023-01-06T05:27:50.035110Z"
    }
   },
   "outputs": [],
   "source": [
    "import requests\n",
    "from bs4 import BeautifulSoup\n",
    "\n",
    "# Send an HTTP request to the website\n",
    "response = requests.get('https://www.propertyguru.com.sg/hdb-for-sale')\n",
    "\n",
    "# Parse the HTML content of the response\n",
    "soup = BeautifulSoup(response.text, 'html.parser')\n",
    "\n",
    "# Find all the div elements with class 'card-title'\n",
    "title_divs = soup.find_all('div', class_='card-title')\n",
    "\n",
    "# Extract the text from each div element and print it\n",
    "for div in title_divs:\n",
    "    print(div.text)\n"
   ]
  },
  {
   "cell_type": "code",
   "execution_count": 30,
   "id": "0722f3ab",
   "metadata": {
    "ExecuteTime": {
     "end_time": "2023-01-06T06:10:03.706403Z",
     "start_time": "2023-01-06T06:10:03.652410Z"
    }
   },
   "outputs": [],
   "source": [
    "import json\n",
    "import openpyxl\n",
    "\n",
    "# Load the JSON file\n",
    "with open('lta-taxi-stop-geojson.geojson', 'r') as f:\n",
    "    data = json.load(f)\n",
    "\n",
    "# Create a new Excel file\n",
    "workbook = openpyxl.Workbook()\n",
    "\n",
    "# Add a new sheet to the file\n",
    "sheet = workbook.create_sheet()\n",
    "\n",
    "# Write the header row to the sheet\n",
    "sheet.cell(row=1, column=1).value = 'Name'\n",
    "sheet.cell(row=1, column=2).value = 'Description'\n",
    "sheet.cell(row=1, column=3).value = 'Type'\n",
    "sheet.cell(row=1, column=4).value = 'Coordinates'\n",
    "\n",
    "# Iterate through the features in the JSON object and write the data to the sheet\n",
    "for i, feature in enumerate(data['features']):\n",
    "    sheet.cell(row=i+2, column=1).value = feature['properties']['Name']\n",
    "    sheet.cell(row=i+2, column=2).value = feature['properties']['Description']\n",
    "    sheet.cell(row=i+2, column=3).value = feature['geometry']['type']\n",
    "    sheet.cell(row=i+2, column=4).value = ', '.join([str(x) for x in feature['geometry']['coordinates']])\n",
    "\n",
    "# Save the Excel file\n",
    "workbook.save('Lta Taxi stop.xlsx')\n"
   ]
  }
 ],
 "metadata": {
  "kernelspec": {
   "display_name": "Python 3 (ipykernel)",
   "language": "python",
   "name": "python3"
  },
  "language_info": {
   "codemirror_mode": {
    "name": "ipython",
    "version": 3
   },
   "file_extension": ".py",
   "mimetype": "text/x-python",
   "name": "python",
   "nbconvert_exporter": "python",
   "pygments_lexer": "ipython3",
   "version": "3.9.7"
  },
  "toc": {
   "base_numbering": 1,
   "nav_menu": {},
   "number_sections": true,
   "sideBar": true,
   "skip_h1_title": false,
   "title_cell": "Table of Contents",
   "title_sidebar": "Contents",
   "toc_cell": false,
   "toc_position": {},
   "toc_section_display": true,
   "toc_window_display": false
  }
 },
 "nbformat": 4,
 "nbformat_minor": 5
}
